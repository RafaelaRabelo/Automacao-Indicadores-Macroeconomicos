{
 "cells": [
  {
   "cell_type": "code",
   "execution_count": null,
   "metadata": {},
   "outputs": [
    {
     "name": "stdout",
     "output_type": "stream",
     "text": [
      "Dados Mensais:\n",
      "       Indicador        Data DataReferencia   Media  Mediana  DesvioPadrao  \\\n",
      "0           IPCA  2024-11-14        11/2026  0.2832    0.280        0.0951   \n",
      "1           IPCA  2024-11-14        11/2026  0.2832    0.280        0.0951   \n",
      "2    IPCA Livres  2024-11-14        11/2026  0.2827    0.275        0.1074   \n",
      "3    IPCA Livres  2024-11-14        11/2026  0.2827    0.275        0.1074   \n",
      "4  IPCA Serviços  2024-11-14        11/2026  0.3061    0.305        0.1064   \n",
      "\n",
      "   Minimo  Maximo  numeroRespondentes  baseCalculo  \n",
      "0    0.01    0.50                  37            1  \n",
      "1    0.01    0.50                  37            0  \n",
      "2    0.06    0.59                  18            1  \n",
      "3    0.06    0.59                  18            0  \n",
      "4    0.12    0.54                  18            1  \n",
      "\n",
      "Dados Trimestrais:\n",
      "  Indicador        Data DataReferencia   Media Mediana DesvioPadrao  Minimo  \\\n",
      "0      IPCA  2021-09-14         3/2021  2,6803  2,7549       0,2296  2,1201   \n",
      "1      IPCA  2021-09-14         4/2021  1,4356  1,4418        0,207   0,812   \n",
      "2      IPCA  2021-09-14         1/2022  1,2195  1,1645        0,235   0,621   \n",
      "3      IPCA  2021-09-14         2/2022  0,7806  0,8021       0,2521  0,1753   \n",
      "4      IPCA  2021-09-14         3/2022  0,8264  0,8122       0,2072  0,1488   \n",
      "\n",
      "   Maximo  numeroRespondentes  baseCalculo  \n",
      "0  2,9891                 117            1  \n",
      "1  2,0133                 116            1  \n",
      "2  1,8511                 107            1  \n",
      "3  1,3558                 105            1  \n",
      "4  1,4775                 104            1  \n",
      "Dados salvos em: C:\\Users\\FNEQ\\PETROBRAS\\Integração de Dados - SUB ORC - Scripts\\Scripts\\PROJECAO\\Dados de saida\\BACEN_projecao_saida.csv\n"
     ]
    }
   ],
   "source": [
    "import requests\n",
    "import pandas as pd\n",
    "from io import StringIO\n",
    "\n",
    "# URLs das APIs\n",
    "url_mensal = \"https://olinda.bcb.gov.br/olinda/servico/Expectativas/versao/v1/odata/ExpectativaMercadoMensais?$top=420&$format=json&$select=Indicador,Data,DataReferencia,Media,Mediana,DesvioPadrao,Minimo,Maximo,numeroRespondentes,baseCalculo\"\n",
    "url_trimestral = \"https://olinda.bcb.gov.br/olinda/servico/Expectativas/versao/v1/odata/ExpectativasMercadoTrimestrais?$top=420&$format=text/csv&$select=Indicador,Data,DataReferencia,Media,Mediana,DesvioPadrao,Minimo,Maximo,numeroRespondentes,baseCalculo\"\n",
    "\n",
    "# Função para buscar dados de uma API e retornar um DataFrame\n",
    "def buscar_dados_json(url):\n",
    "    response = requests.get(url)\n",
    "    if response.status_code == 200:\n",
    "        data = response.json()\n",
    "        return pd.DataFrame(data['value'])\n",
    "    else:\n",
    "        print(f\"Erro ao acessar a API: {response.status_code}\")\n",
    "        return pd.DataFrame()  # Retorna um DataFrame vazio em caso de erro\n",
    "\n",
    "def buscar_dados_csv(url):\n",
    "    response = requests.get(url)\n",
    "    if response.status_code == 200:\n",
    "        # Lê o conteúdo CSV em um DataFrame\n",
    "        return pd.read_csv(StringIO(response.text))\n",
    "    else:\n",
    "        print(f\"Erro ao acessar a API: {response.status_code}\")\n",
    "        return pd.DataFrame()  # Retorna um DataFrame vazio em caso de erro\n",
    "\n",
    "# Buscando dados das APIs\n",
    "df_mensal = buscar_dados_json(url_mensal)\n",
    "df_trimestral = buscar_dados_csv(url_trimestral)\n",
    "\n",
    "# Exibindo as primeiras linhas de cada DataFrame\n",
    "print(\"Dados Mensais:\")\n",
    "print(df_mensal.head())\n",
    "print(\"\\nDados Trimestrais:\")\n",
    "print(df_trimestral.head())\n",
    "\n",
    "# Concatenando os DataFrames\n",
    "df_completo = pd.concat([df_mensal, df_trimestral], ignore_index=True)\n",
    "\n",
    "# Definindo o caminho do arquivo CSV\n",
    "caminho_arquivo = r\"C:\\Users\\DXX7\\PETROBRAS\\Integração de Dados - SUB ORC - Documentos\\INDICES MACROECONOMICOS\\Scripts\\Scripts\\PROJECAO\\Dados de saida\\BACEN_projecao_saida.csv\"\n",
    "\n",
    "# Salvando o DataFrame combinado em um arquivo CSV\n",
    "df_completo.to_csv(caminho_arquivo, sep=\";\", index=False)\n",
    "print(f\"Dados salvos em: {caminho_arquivo}\")\n"
   ]
  }
 ],
 "metadata": {
  "kernelspec": {
   "display_name": "Python 3",
   "language": "python",
   "name": "python3"
  },
  "language_info": {
   "codemirror_mode": {
    "name": "ipython",
    "version": 3
   },
   "file_extension": ".py",
   "mimetype": "text/x-python",
   "name": "python",
   "nbconvert_exporter": "python",
   "pygments_lexer": "ipython3",
   "version": "3.11.1"
  }
 },
 "nbformat": 4,
 "nbformat_minor": 2
}
