{
 "cells": [
  {
   "cell_type": "code",
   "execution_count": null,
   "metadata": {},
   "outputs": [
    {
     "name": "stdout",
     "output_type": "stream",
     "text": [
      "\n",
      "Executando C:/Users/DXX7/PETROBRAS/Integração de Dados - SUB ORC - Documentos/INDICES MACROECONOMICOS/Scripts/Scripts/CAMBIO/Cambio.ipynb...\n",
      "Concluído: C:/Users/DXX7/PETROBRAS/Integração de Dados - SUB ORC - Documentos/INDICES MACROECONOMICOS/Scripts/Scripts/CAMBIO/Cambio.ipynb em 28.74 segundos.\n",
      "\n",
      "\n",
      "Executando C:/Users/DXX7/PETROBRAS/Integração de Dados - SUB ORC - Documentos/INDICES MACROECONOMICOS/Scripts/Scripts/FGV/Scripts/IGPM.ipynb...\n",
      "Concluído: C:/Users/DXX7/PETROBRAS/Integração de Dados - SUB ORC - Documentos/INDICES MACROECONOMICOS/Scripts/Scripts/FGV/Scripts/IGPM.ipynb em 73.76 segundos.\n",
      "\n",
      "\n",
      "Executando C:/Users/DXX7/PETROBRAS/Integração de Dados - SUB ORC - Documentos/INDICES MACROECONOMICOS/Scripts/Scripts/FGV/Scripts/INCC.ipynb...\n",
      "Concluído: C:/Users/DXX7/PETROBRAS/Integração de Dados - SUB ORC - Documentos/INDICES MACROECONOMICOS/Scripts/Scripts/FGV/Scripts/INCC.ipynb em 72.73 segundos.\n",
      "\n",
      "\n",
      "Executando C:/Users/DXX7/PETROBRAS/Integração de Dados - SUB ORC - Documentos/INDICES MACROECONOMICOS/Scripts/Scripts/FRED/Script/FRED.ipynb...\n",
      "Concluído: C:/Users/DXX7/PETROBRAS/Integração de Dados - SUB ORC - Documentos/INDICES MACROECONOMICOS/Scripts/Scripts/FRED/Script/FRED.ipynb em 342.31 segundos.\n",
      "\n",
      "\n",
      "Executando C:/Users/DXX7/PETROBRAS/Integração de Dados - SUB ORC - Documentos/INDICES MACROECONOMICOS/Scripts/Scripts/PROJECAO/Script/BACEN_projecao.ipynb...\n",
      "Concluído: C:/Users/DXX7/PETROBRAS/Integração de Dados - SUB ORC - Documentos/INDICES MACROECONOMICOS/Scripts/Scripts/PROJECAO/Script/BACEN_projecao.ipynb em 14.79 segundos.\n",
      "\n",
      "\n",
      "Executando C:/Users/DXX7/PETROBRAS/Integração de Dados - SUB ORC - Documentos/INDICES MACROECONOMICOS/Scripts/Scripts/PROJECAO/Script/FRED_projecao.ipynb...\n",
      "Concluído: C:/Users/DXX7/PETROBRAS/Integração de Dados - SUB ORC - Documentos/INDICES MACROECONOMICOS/Scripts/Scripts/PROJECAO/Script/FRED_projecao.ipynb em 39.74 segundos.\n",
      "\n",
      "\n",
      "Executando C:/Users/DXX7/PETROBRAS/Integração de Dados - SUB ORC - Documentos/INDICES MACROECONOMICOS/Scripts/Scripts/SAP/SAP_saida.ipynb...\n",
      "Concluído: C:/Users/DXX7/PETROBRAS/Integração de Dados - SUB ORC - Documentos/INDICES MACROECONOMICOS/Scripts/Scripts/SAP/SAP_saida.ipynb em 41.53 segundos.\n",
      "\n",
      "\n",
      "Executando C:/Users/DXX7/PETROBRAS/Integração de Dados - SUB ORC - Documentos/INDICES MACROECONOMICOS/Scripts/Scripts/MOLYBDENUM/molybdenumipynb...\n",
      "Erro ao executar C:/Users/DXX7/PETROBRAS/Integração de Dados - SUB ORC - Documentos/INDICES MACROECONOMICOS/Scripts/Scripts/MOLYBDENUM/molybdenumipynb: [Errno 2] No such file or directory: 'C:/Users/DXX7/PETROBRAS/Integração de Dados - SUB ORC - Documentos/INDICES MACROECONOMICOS/Scripts/Scripts/MOLYBDENUM/molybdenumipynb'\n",
      "\n",
      "Executando C:/Users/DXX7/PETROBRAS/Integração de Dados - SUB ORC - Documentos/INDICES MACROECONOMICOS/Scripts/Scripts/BACEN/Script/BACEN.ipynb...\n",
      "Concluído: C:/Users/DXX7/PETROBRAS/Integração de Dados - SUB ORC - Documentos/INDICES MACROECONOMICOS/Scripts/Scripts/BACEN/Script/BACEN.ipynb em 440.55 segundos.\n",
      "\n"
     ]
    }
   ],
   "source": [
    "import nbformat\n",
    "from nbconvert.preprocessors import ExecutePreprocessor\n",
    "import time\n",
    "\n",
    "# Lista de caminhos dos notebooks a serem executados\n",
    "notebooks = [\n",
    "    r\"xxxx/Cambio.ipynb\",\n",
    "    r\"xxxx/IGPM.ipynb\",\n",
    "    r\"xxxx/INCC.ipynb\",\n",
    "    r\"xxxx/FRED.ipynb\",\n",
    "    r\"xxxx/BACEN_projecao.ipynb\",\n",
    "    r\"xxxx/FRED_projecao.ipynb\",\n",
    "    r\"xxxx/SAP_saida.ipynb\",\n",
    "    r\"xxxx/molybdenum.ipynb\",\n",
    "    r\"xxxx/Script/BACEN.ipynb\"\n",
    "\n",
    "]\n",
    "\n",
    "# Função para executar os notebooks e capturar o tempo de execução\n",
    "def run_notebooks():\n",
    "    for notebook_path in notebooks:\n",
    "        start_time = time.time()\n",
    "        print(f\"\\nExecutando {notebook_path}...\")\n",
    "\n",
    "        try:\n",
    "            with open(notebook_path, encoding='utf-8') as nb_file:\n",
    "                nb_contents = nbformat.read(nb_file, as_version=4)\n",
    "\n",
    "            ep = ExecutePreprocessor(timeout=600, kernel_name='python3')\n",
    "            ep.preprocess(nb_contents, {'metadata': {'path': notebook_path.rsplit('/', 1)[0]}})\n",
    "            \n",
    "            elapsed_time = time.time() - start_time\n",
    "            print(f\"Concluído: {notebook_path} em {elapsed_time:.2f} segundos.\\n\")\n",
    "\n",
    "        except Exception as e:\n",
    "            print(f\"Erro ao executar {notebook_path}: {e}\")\n",
    "\n",
    "if __name__ == \"__main__\":\n",
    "    run_notebooks()\n"
   ]
  }
 ],
 "metadata": {
  "kernelspec": {
   "display_name": "Python 3",
   "language": "python",
   "name": "python3"
  },
  "language_info": {
   "codemirror_mode": {
    "name": "ipython",
    "version": 3
   },
   "file_extension": ".py",
   "mimetype": "text/x-python",
   "name": "python",
   "nbconvert_exporter": "python",
   "pygments_lexer": "ipython3",
   "version": "3.11.1"
  }
 },
 "nbformat": 4,
 "nbformat_minor": 2
}
